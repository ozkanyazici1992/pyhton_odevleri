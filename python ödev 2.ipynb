{
 "cells": [
  {
   "cell_type": "markdown",
   "metadata": {},
   "source": [
    "1 soru:İçerisinde 7 günün bulunduğu bir sözlük oluşturun. Kullanıcıya günleri listeleyerek 2 farklı gün seçmesini isteyin (örneğin pazartesi ve salı için \"12\" gibi). Kullanıcının seçtiği günleri sözlükten silerek kalan 5 günü ekrana yazdırın."
   ]
  },
  {
   "cell_type": "code",
   "execution_count": 1,
   "metadata": {},
   "outputs": [
    {
     "name": "stdout",
     "output_type": "stream",
     "text": [
      "12\n",
      "12\n"
     ]
    }
   ],
   "source": [
    "haftanin_günleri = {\n",
    "    'pazartesi' : 12 ,\n",
    "    'salı'      : 12 ,\n",
    "    'carsamba'  : 14 ,\n",
    "    'persembe'  : 15 , \n",
    "    'cuma'      : 16 , \n",
    "    'cumartesi' : 17 ,\n",
    "    'pazar'     : 18 }\n",
    "print(haftanin_günleri['pazartesi'])\n",
    "print(haftanin_günleri['salı'])"
   ]
  },
  {
   "cell_type": "code",
   "execution_count": 2,
   "metadata": {},
   "outputs": [
    {
     "name": "stdout",
     "output_type": "stream",
     "text": [
      "{'pazartesi': 12, 'salı': 12, 'carsamba': 14, 'persembe': 15, 'cuma': 16, 'cumartesi': 17, 'pazar': 18}\n"
     ]
    }
   ],
   "source": [
    "haftanin_günleri = {\n",
    "    'pazartesi' : 12 ,\n",
    "    'salı'      : 12 ,\n",
    "    'carsamba'  : 14 ,\n",
    "    'persembe'  : 15 , \n",
    "    'cuma'      : 16 , \n",
    "    'cumartesi' : 17 ,\n",
    "    'pazar'     : 18 }\n",
    "print(haftanin_günleri)"
   ]
  },
  {
   "cell_type": "code",
   "execution_count": 3,
   "metadata": {},
   "outputs": [
    {
     "name": "stdout",
     "output_type": "stream",
     "text": [
      "{'salı': 12, 'carsamba': 14, 'persembe': 15, 'cuma': 16, 'cumartesi': 17, 'pazar': 18}\n"
     ]
    }
   ],
   "source": [
    "del haftanin_günleri['pazartesi']\n",
    "print(haftanin_günleri)"
   ]
  },
  {
   "cell_type": "code",
   "execution_count": 4,
   "metadata": {},
   "outputs": [
    {
     "name": "stdout",
     "output_type": "stream",
     "text": [
      "{'carsamba': 14, 'persembe': 15, 'cuma': 16, 'cumartesi': 17, 'pazar': 18}\n"
     ]
    }
   ],
   "source": [
    "del haftanin_günleri['salı']\n",
    "print(haftanin_günleri)"
   ]
  },
  {
   "cell_type": "markdown",
   "metadata": {},
   "source": [
    "2.Ayların kaç gün çektiğini karıştırabiliyoruz. Bunun için bir liste oluşturun ancak listenizde ay isimleri ve gün sayıları beraber bulunsun (ipucu: listenizin içinde başka bir veri yapısı yer alacak!)."
   ]
  },
  {
   "cell_type": "code",
   "execution_count": 5,
   "metadata": {},
   "outputs": [
    {
     "name": "stdout",
     "output_type": "stream",
     "text": [
      "['Ocak', 'Mart', 'Mayıs', 'Temmuz', 'Ağustos', 'Ekim', 'Aralık', '= 31']\n",
      "['Nisan', 'Haziran', ' Eylül', 'Kasim', '= 30']\n",
      "['Subat', '= 28']\n"
     ]
    }
   ],
   "source": [
    "aylar_1 = ['Ocak', 'Mart' , 'Mayıs', 'Temmuz' , 'Ağustos' , 'Ekim' , 'Aralık' , '= 31']\n",
    "aylar_2 = ['Nisan' , 'Haziran' , ' Eylül' , 'Kasim' , '= 30']\n",
    "aylar_3 = ['Subat' , '= 28']\n",
    "print(aylar_1)\n",
    "print(aylar_2)\n",
    "print(aylar_3)"
   ]
  },
  {
   "cell_type": "markdown",
   "metadata": {},
   "source": [
    "3.Bilgileri bir önceki listeden alan başka bir ay listesi oluşturun. Bu kez ayları günlerle birlikte listenin içinde iki ayrı listede tutun."
   ]
  },
  {
   "cell_type": "code",
   "execution_count": null,
   "metadata": {},
   "outputs": [],
   "source": []
  },
  {
   "cell_type": "markdown",
   "metadata": {},
   "source": [
    "4.Şimdi ise mevsim mevsim ayrılmış ay listeleri oluşturun. Liste adlarına mevsimlerin adlarını verin."
   ]
  },
  {
   "cell_type": "code",
   "execution_count": 6,
   "metadata": {},
   "outputs": [
    {
     "name": "stdout",
     "output_type": "stream",
     "text": [
      "['subat', 'mart', 'nisan']\n",
      "['mayıs', 'haziran', 'temmuz']\n",
      "['kasim', 'aralik', 'ocak']\n",
      "['subat', 'mart', 'nisan']\n"
     ]
    }
   ],
   "source": [
    "my_list_ilkbahar = [\"subat\" , \"mart\" , \"nisan\"]\n",
    "my_list_yaz      = [\"mayıs\" , \"haziran\" , \"temmuz\"]\n",
    "my_list_sonbahar = [\"kasim\" , \"aralik\" , \"ocak\"]\n",
    "my_list_kıs      = [\"subat\" , \"mart\" , \"nisan\"]\n",
    "print(my_list_ilkbahar)\n",
    "print(my_list_yaz)      \n",
    "print(my_list_sonbahar)\n",
    "print(my_list_kıs)"
   ]
  },
  {
   "cell_type": "markdown",
   "metadata": {},
   "source": [
    "5.Son olarak, bir önceki sorudaki listeden yaz ayının kaç gün sürdüğünü hesaplayın."
   ]
  },
  {
   "cell_type": "code",
   "execution_count": 7,
   "metadata": {},
   "outputs": [
    {
     "name": "stdout",
     "output_type": "stream",
     "text": [
      "92\n"
     ]
    }
   ],
   "source": [
    "my_list_yaz      = [\"mayıs\" , \"haziran\" , \"temmuz\"]\n",
    "mayıs = 31\n",
    "haziran = 30 \n",
    "temmuz = 31\n",
    "print(mayıs+haziran+temmuz)"
   ]
  },
  {
   "cell_type": "code",
   "execution_count": null,
   "metadata": {},
   "outputs": [],
   "source": []
  }
 ],
 "metadata": {
  "kernelspec": {
   "display_name": "Python 3",
   "language": "python",
   "name": "python3"
  },
  "language_info": {
   "codemirror_mode": {
    "name": "ipython",
    "version": 3
   },
   "file_extension": ".py",
   "mimetype": "text/x-python",
   "name": "python",
   "nbconvert_exporter": "python",
   "pygments_lexer": "ipython3",
   "version": "3.7.4"
  }
 },
 "nbformat": 4,
 "nbformat_minor": 2
}
