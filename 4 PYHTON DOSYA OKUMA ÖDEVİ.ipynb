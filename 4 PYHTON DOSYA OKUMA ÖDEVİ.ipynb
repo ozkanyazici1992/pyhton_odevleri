{
 "cells": [
  {
   "cell_type": "markdown",
   "metadata": {},
   "source": [
    "ÖZKAN YAZICI PYHTON DOSYA OKUMA ÖDEVLERİ"
   ]
  },
  {
   "cell_type": "markdown",
   "metadata": {},
   "source": [
    "1.Seçeceğiniz herhangi bir şiiri bilgisayarına .txt dsyası olarak kaydedin. Şiirin kaç dizeden oluştuğunu hesaplayın ve başka bir dosyaya her dizenin ilk kelimesini yazdırın."
   ]
  },
  {
   "cell_type": "code",
   "execution_count": 1,
   "metadata": {},
   "outputs": [
    {
     "name": "stdout",
     "output_type": "stream",
     "text": [
      "Korkma, sönmez bu şafaklarda yüzen al sancak;\n",
      "Sönmeden yurdumun üstünde tüten en son ocak.\n",
      "O benim milletimin yıldızıdır, parlayacak;\n",
      "O benimdir, o benim milletimindir ancak.\n",
      "\n",
      "Çatma, kurban olayım çehreni ey nazlı hilâl!\n",
      "Kahraman ırkıma bir gül… ne bu şiddet bu celâl?\n",
      "Sana olmaz dökülen kanlarımız sonra helâl,\n",
      "Hakkıdır, Hakk’a tapan, milletimin istiklâl.\n",
      "\n",
      "Ben ezelden beridir hür yaşadım, hür yaşarım.\n",
      "Hangi çılgın bana zincir vuracakmış? Şaşarım!\n",
      "Kükremiş sel gibiyim; bendimi çiğner, aşarım;\n",
      "Yırtarım dağları, enginlere sığmam, taşarım.\n",
      "\n",
      "Garb’ın âfâkını sarmışsa çelik zırhlı duvar;\n",
      "Benim iman dolu göğsüm gibi serhaddim var.\n",
      "Ulusun, korkma! Nasıl böyle bir îmânı boğar,\n",
      "\"Medeniyet!\" dediğin tek dişi kalmış canavar?\n",
      "\n",
      "\n"
     ]
    }
   ],
   "source": [
    "with open('istiklal_marsi.txt' , 'r' , encoding = 'utf8') as f:\n",
    "    siir = f.read()\n",
    "print(siir)"
   ]
  },
  {
   "cell_type": "code",
   "execution_count": 2,
   "metadata": {
    "scrolled": true
   },
   "outputs": [
    {
     "name": "stdout",
     "output_type": "stream",
     "text": [
      "['Korkma, sönmez bu şafaklarda yüzen al sancak;\\n', 'Sönmeden yurdumun üstünde tüten en son ocak.\\n', 'O benim milletimin yıldızıdır, parlayacak;\\n', 'O benimdir, o benim milletimindir ancak.\\n', '\\n', 'Çatma, kurban olayım çehreni ey nazlı hilâl!\\n', 'Kahraman ırkıma bir gül… ne bu şiddet bu celâl?\\n', 'Sana olmaz dökülen kanlarımız sonra helâl,\\n', 'Hakkıdır, Hakk’a tapan, milletimin istiklâl.\\n', '\\n', 'Ben ezelden beridir hür yaşadım, hür yaşarım.\\n', 'Hangi çılgın bana zincir vuracakmış? Şaşarım!\\n', 'Kükremiş sel gibiyim; bendimi çiğner, aşarım;\\n', 'Yırtarım dağları, enginlere sığmam, taşarım.\\n', '\\n', 'Garb’ın âfâkını sarmışsa çelik zırhlı duvar;\\n', 'Benim iman dolu göğsüm gibi serhaddim var.\\n', 'Ulusun, korkma! Nasıl böyle bir îmânı boğar,\\n', '\"Medeniyet!\" dediğin tek dişi kalmış canavar?\\n', '\\n']\n"
     ]
    }
   ],
   "source": [
    "with open(\"istiklal_marsi.txt\", \"r\", encoding='utf8') as f:\n",
    "    lines=f.readlines()\n",
    "    \n",
    "print (lines)\n"
   ]
  },
  {
   "cell_type": "code",
   "execution_count": 3,
   "metadata": {},
   "outputs": [
    {
     "name": "stdout",
     "output_type": "stream",
     "text": [
      "20\n"
     ]
    }
   ],
   "source": [
    "print(len(lines))"
   ]
  },
  {
   "cell_type": "code",
   "execution_count": 4,
   "metadata": {},
   "outputs": [
    {
     "data": {
      "text/plain": [
       "16"
      ]
     },
     "execution_count": 4,
     "metadata": {},
     "output_type": "execute_result"
    }
   ],
   "source": [
    "[line for line in lines if line !='\\n' ]\n",
    "len([line for line in lines if line !='\\n' ])"
   ]
  },
  {
   "cell_type": "code",
   "execution_count": null,
   "metadata": {
    "scrolled": true
   },
   "outputs": [],
   "source": [
    "for x in range(len(siir)):\n",
    "    print(siir[x].split()[0])"
   ]
  },
  {
   "cell_type": "code",
   "execution_count": null,
   "metadata": {},
   "outputs": [],
   "source": [
    "with open(\"yeni_mars\" , \"w\" , enconding='utf8') as f:\n",
    "    for x in range(len(siir)) :\n",
    "        yeni_siir = (siir[x].split())[0])\n",
    "        f.write(yeni_siir)"
   ]
  },
  {
   "cell_type": "markdown",
   "metadata": {},
   "source": [
    "2.Parametre olarak girilen bir sayının asal sayı olup olmadığını belirten bir fonksiyon yazın."
   ]
  },
  {
   "cell_type": "code",
   "execution_count": 5,
   "metadata": {},
   "outputs": [
    {
     "name": "stdout",
     "output_type": "stream",
     "text": [
      "sayi giriniz:131\n",
      "131  asaldir\n"
     ]
    }
   ],
   "source": [
    "def Asal (sayi):\n",
    "    adet = 0\n",
    "    for i in range(2,sayi+1):\n",
    "        if sayi%i==0:\n",
    "            adet+=1\n",
    "    if adet==1:\n",
    "        print (sayi, \" asaldir\")\n",
    "    else:\n",
    "        print (sayi,\" asal degildir\")\n",
    " \n",
    "sayi=int(input(\"sayi giriniz:\"))\n",
    "Asal(sayi)"
   ]
  },
  {
   "cell_type": "markdown",
   "metadata": {},
   "source": [
    "3.Parametre olarak girilecek listenin elemanlarını yeni bir listeye her değer sadece bir kere geçecek şekilde aktaran bir fonksiyon yazın. Normalde bu işlemi set() komutu ile yapabiliriz ama bu seferlik bu komutu kullanmayalım."
   ]
  },
  {
   "cell_type": "code",
   "execution_count": 6,
   "metadata": {},
   "outputs": [
    {
     "name": "stdout",
     "output_type": "stream",
     "text": [
      "[1, 2, 3, 4]\n"
     ]
    }
   ],
   "source": [
    "def uniq_liste(l):\n",
    "    x = []\n",
    "    for a in l :\n",
    "        if a not in x :\n",
    "            x.append(a)\n",
    "    return x\n",
    "print(uniq_liste([1,2,2,3,3,4,4]))"
   ]
  },
  {
   "cell_type": "code",
   "execution_count": 7,
   "metadata": {},
   "outputs": [],
   "source": [
    "import datetime"
   ]
  },
  {
   "cell_type": "code",
   "execution_count": 8,
   "metadata": {},
   "outputs": [
    {
     "name": "stdout",
     "output_type": "stream",
     "text": [
      "27\n"
     ]
    }
   ],
   "source": [
    "def yas(doğum_yili , güncel_yil):\n",
    "    yasim = güncel_yil - doğum_yili\n",
    "    return yasim\n",
    "print(yas(1992,2019))"
   ]
  },
  {
   "cell_type": "code",
   "execution_count": null,
   "metadata": {},
   "outputs": [],
   "source": []
  }
 ],
 "metadata": {
  "kernelspec": {
   "display_name": "Python 3",
   "language": "python",
   "name": "python3"
  },
  "language_info": {
   "codemirror_mode": {
    "name": "ipython",
    "version": 3
   },
   "file_extension": ".py",
   "mimetype": "text/x-python",
   "name": "python",
   "nbconvert_exporter": "python",
   "pygments_lexer": "ipython3",
   "version": "3.7.4"
  }
 },
 "nbformat": 4,
 "nbformat_minor": 2
}
