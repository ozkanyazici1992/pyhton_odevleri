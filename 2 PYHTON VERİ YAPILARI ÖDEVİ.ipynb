{
 "cells": [
  {
   "cell_type": "markdown",
   "metadata": {},
   "source": [
    "ÖZKAN YAZICI PYHTON VERİ YAPILARI ÖDEVİ"
   ]
  },
  {
   "cell_type": "markdown",
   "metadata": {},
   "source": [
    "1 soru:İçerisinde 7 günün bulunduğu bir sözlük oluşturun. Kullanıcıya günleri listeleyerek 2 farklı gün seçmesini isteyin (örneğin pazartesi ve salı için \"12\" gibi). Kullanıcının seçtiği günleri sözlükten silerek kalan 5 günü ekrana yazdırın."
   ]
  },
  {
   "cell_type": "code",
   "execution_count": 1,
   "metadata": {},
   "outputs": [
    {
     "name": "stdout",
     "output_type": "stream",
     "text": [
      "{'pazartesi': 1, 'salı': 2, 'carsamba': 3, 'persembe': 4, 'cuma': 5, 'cumartesi': 6, 'pazar': 7}\n"
     ]
    }
   ],
   "source": [
    "haftanin_günleri = {\n",
    "    'pazartesi' : 1 ,\n",
    "    'salı'      : 2 ,\n",
    "    'carsamba'  : 3 ,\n",
    "    'persembe'  : 4 , \n",
    "    'cuma'      : 5 , \n",
    "    'cumartesi' : 6 ,\n",
    "    'pazar'     : 7 }\n",
    "print(haftanin_günleri)"
   ]
  },
  {
   "cell_type": "code",
   "execution_count": 2,
   "metadata": {},
   "outputs": [
    {
     "name": "stdout",
     "output_type": "stream",
     "text": [
      "1\n",
      "2\n"
     ]
    }
   ],
   "source": [
    "haftanin_günleri = {\n",
    "    'pazartesi' : 1 ,\n",
    "    'salı'      : 2 ,\n",
    "    'carsamba'  : 3 ,\n",
    "    'persembe'  : 4 , \n",
    "    'cuma'      : 5 , \n",
    "    'cumartesi' : 6 ,\n",
    "    'pazar'     : 7 }\n",
    "print(haftanin_günleri['pazartesi'])\n",
    "print(haftanin_günleri['salı'])"
   ]
  },
  {
   "cell_type": "code",
   "execution_count": 3,
   "metadata": {},
   "outputs": [
    {
     "name": "stdout",
     "output_type": "stream",
     "text": [
      "{'salı': 2, 'carsamba': 3, 'persembe': 4, 'cuma': 5, 'cumartesi': 6, 'pazar': 7}\n"
     ]
    }
   ],
   "source": [
    "del haftanin_günleri['pazartesi']\n",
    "print(haftanin_günleri)"
   ]
  },
  {
   "cell_type": "code",
   "execution_count": 4,
   "metadata": {},
   "outputs": [
    {
     "name": "stdout",
     "output_type": "stream",
     "text": [
      "{'carsamba': 3, 'persembe': 4, 'cuma': 5, 'cumartesi': 6, 'pazar': 7}\n"
     ]
    }
   ],
   "source": [
    "del haftanin_günleri['salı']\n",
    "print(haftanin_günleri)"
   ]
  },
  {
   "cell_type": "markdown",
   "metadata": {},
   "source": [
    "2.Ayların kaç gün çektiğini karıştırabiliyoruz. Bunun için bir liste oluşturun ancak listenizde ay isimleri ve gün sayıları beraber bulunsun (ipucu: listenizin içinde başka bir veri yapısı yer alacak!)."
   ]
  },
  {
   "cell_type": "code",
   "execution_count": 5,
   "metadata": {},
   "outputs": [
    {
     "name": "stdout",
     "output_type": "stream",
     "text": [
      "[('Ocak', 31), ('Subat', 28), ('Mart', 31), ('Nisan', 30), ('Mayis', 31), ('Haziran', 30), ('Temmuz', 31), ('Agustos', 31), ('Eylül', 30), ('Ekim', 31), ('Kasim', 30), ('Aralik', 31)] \n",
      "\n",
      "['Ocak', 'Subat', 'Mart', 'Nisan', 'Mayis', 'Haziran', 'Temmuz', 'Agustos', 'Eylül', 'Ekim', 'Kasim', 'Aralik'] \n",
      "\n",
      "[31, 28, 31, 30, 31, 30, 31, 31, 30, 31, 30, 31] \n",
      "\n"
     ]
    }
   ],
   "source": [
    "aylar = { 'Ocak' : 31 ,\n",
    "         'Subat' : 28 ,\n",
    "         'Mart'  : 31 ,\n",
    "         'Nisan' : 30 ,\n",
    "         'Mayis' : 31 ,\n",
    "         'Haziran':30 ,\n",
    "         'Temmuz' :31 ,\n",
    "         'Agustos':31 ,\n",
    "         'Eylül' : 30 ,\n",
    "         'Ekim'  : 31 ,\n",
    "         'Kasim' : 30 ,\n",
    "         'Aralik': 31}\n",
    "print(list(aylar.items()) , '\\n')\n",
    "print(list(aylar.keys()) , '\\n')\n",
    "print(list(aylar.values()) , '\\n')"
   ]
  },
  {
   "cell_type": "markdown",
   "metadata": {},
   "source": [
    "3.Şimdi ise mevsim mevsim ayrılmış ay listeleri oluşturun. Liste adlarına mevsimlerin adlarını verin."
   ]
  },
  {
   "cell_type": "code",
   "execution_count": 6,
   "metadata": {},
   "outputs": [
    {
     "name": "stdout",
     "output_type": "stream",
     "text": [
      "['subat', 'mart', 'nisan']\n",
      "['mayis', 'haziran', 'temmuz']\n",
      "['kasim', 'aralik', 'ocak']\n",
      "['subat', 'mart', 'nisan']\n"
     ]
    }
   ],
   "source": [
    "ilkbahar = [\"subat\" , \"mart\" , \"nisan\"]\n",
    "yaz      = [\"mayis\" , \"haziran\" , \"temmuz\"]\n",
    "sonbahar = [\"kasim\" , \"aralik\" , \"ocak\"]\n",
    "kis      = [\"subat\" , \"mart\" , \"nisan\"]\n",
    "print(ilkbahar)\n",
    "print(yaz)      \n",
    "print(sonbahar)\n",
    "print(kis)"
   ]
  },
  {
   "cell_type": "markdown",
   "metadata": {},
   "source": [
    "4.Son olarak, bir önceki sorudaki listeden yaz ayının kaç gün sürdüğünü hesaplayın."
   ]
  },
  {
   "cell_type": "code",
   "execution_count": 7,
   "metadata": {},
   "outputs": [
    {
     "name": "stdout",
     "output_type": "stream",
     "text": [
      "92\n"
     ]
    }
   ],
   "source": [
    "yaz      = [\"mayıs\" , \"haziran\" , \"temmuz\"]\n",
    "mayıs = 31\n",
    "haziran = 30 \n",
    "temmuz = 31\n",
    "print(mayıs+haziran+temmuz)"
   ]
  }
 ],
 "metadata": {
  "kernelspec": {
   "display_name": "Python 3",
   "language": "python",
   "name": "python3"
  },
  "language_info": {
   "codemirror_mode": {
    "name": "ipython",
    "version": 3
   },
   "file_extension": ".py",
   "mimetype": "text/x-python",
   "name": "python",
   "nbconvert_exporter": "python",
   "pygments_lexer": "ipython3",
   "version": "3.7.4"
  }
 },
 "nbformat": 4,
 "nbformat_minor": 2
}
