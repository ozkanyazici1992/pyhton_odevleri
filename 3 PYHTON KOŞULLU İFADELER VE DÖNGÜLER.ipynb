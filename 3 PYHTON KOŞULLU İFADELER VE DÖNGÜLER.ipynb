{
 "cells": [
  {
   "cell_type": "markdown",
   "metadata": {},
   "source": [
    "ÖZKAN YAZICI PYHTON KOŞULLU İFADELER VE DÖNGÜLER ÖDEVİ"
   ]
  },
  {
   "cell_type": "markdown",
   "metadata": {},
   "source": [
    "1.Kullanıcıdan Santigrat ya da Fahrenheit olarak sıcaklık değerini alacak ve diğer sıcaklık birimine çevirecek bir kod yazın. Dönüşüm için C = (5/9) * (F - 32) formülünü kullanabilirsiniz.\n",
    "\n",
    " Örnek : \"40C\" --> \"104F\"\n",
    "         \"52F\" --> \"11.1\""
   ]
  },
  {
   "cell_type": "code",
   "execution_count": 1,
   "metadata": {},
   "outputs": [
    {
     "name": "stdout",
     "output_type": "stream",
     "text": [
      "Santigrat derece girin:100\n",
      "Fahrenait değeri=212.0\n"
     ]
    }
   ],
   "source": [
    "deg = float(input(\"Santigrat derece girin:\"))\n",
    " \n",
    "fah = deg * 1.8 + 32;\n",
    " \n",
    "print('Fahrenait değeri={0}'.format(fah))"
   ]
  },
  {
   "cell_type": "markdown",
   "metadata": {},
   "source": [
    "2.Kullanıcının girdiği kelimeyi ters çeviren bir kod yazınız.\n",
    "\n",
    " Örnek : \"otobüs\" --> \"süboto"
   ]
  },
  {
   "cell_type": "code",
   "execution_count": 2,
   "metadata": {},
   "outputs": [
    {
     "name": "stdout",
     "output_type": "stream",
     "text": [
      "İsminiz :özkan yazici\n",
      "İsminizin tersten yazılışı : icizay nakzö\n"
     ]
    }
   ],
   "source": [
    "kelime = input (\"İsminiz :\")\n",
    "print(\"İsminizin tersten yazılışı :\", kelime[::-1])"
   ]
  },
  {
   "cell_type": "markdown",
   "metadata": {},
   "source": [
    "3.1'den 50'ye kadar olan Fibonacci sayılarından oluşan bir liste oluşturun. \n",
    "İlk iki Fibonacci sayısı 1'dir. Sonraki sayılar, önceki iki sayının toplamıdır."
   ]
  },
  {
   "cell_type": "code",
   "execution_count": 3,
   "metadata": {},
   "outputs": [
    {
     "name": "stdout",
     "output_type": "stream",
     "text": [
      "lütfen sayı giriniz9\n",
      "0\n",
      "1\n",
      "1\n",
      "2\n",
      "3\n",
      "5\n",
      "8\n",
      "13\n",
      "21\n",
      "lütfen sayı giriniz10\n",
      "0\n",
      "1\n",
      "1\n",
      "2\n",
      "3\n",
      "5\n",
      "8\n",
      "13\n",
      "21\n",
      "34\n"
     ]
    }
   ],
   "source": [
    "def  fibonacci(sinir):\n",
    "    sayi1=0\n",
    "    sayi2=1\n",
    "    print(sayi1)\n",
    "    print(sayi2)\n",
    "    i=0\n",
    "    while(i<sinir-2):\n",
    "        sayi3=sayi1+sayi2\n",
    "        print(sayi3)\n",
    "        sayi1=sayi2\n",
    "        sayi2=sayi3\n",
    "        i+=1\n",
    "sinir=int(input(\"lütfen sayı giriniz\"))\n",
    "fibonacci(sinir)\n",
    "1\n",
    "2\n",
    "3\n",
    "4\n",
    "5\n",
    "6\n",
    "7\n",
    "8\n",
    "9\n",
    "10\n",
    "11\n",
    "12\n",
    "13\n",
    "14\n",
    "def  fibonacci(sinir):\n",
    "    sayi1=0\n",
    "    sayi2=1\n",
    "    print(sayi1)\n",
    "    print(sayi2)\n",
    "    i=0\n",
    "    while(i<sinir-2):\n",
    "        sayi3=sayi1+sayi2\n",
    "        print(sayi3)\n",
    "        sayi1=sayi2\n",
    "        sayi2=sayi3\n",
    "        i+=1\n",
    "sinir=int(input(\"lütfen sayı giriniz\"))\n",
    "fibonacci(sinir)"
   ]
  },
  {
   "cell_type": "markdown",
   "metadata": {},
   "source": [
    "4.Girilen bir sayı için çarpım tablosunu yazdırın."
   ]
  },
  {
   "cell_type": "code",
   "execution_count": 4,
   "metadata": {},
   "outputs": [
    {
     "name": "stdout",
     "output_type": "stream",
     "text": [
      "lütfen sayı giriniz: 6\n",
      "lütfen çarpan giriniz: 9\n",
      "6 x 0 = 0\n",
      "6 x 1 = 6\n",
      "6 x 2 = 12\n",
      "6 x 3 = 18\n",
      "6 x 4 = 24\n",
      "6 x 5 = 30\n",
      "6 x 6 = 36\n",
      "6 x 7 = 42\n",
      "6 x 8 = 48\n",
      "6 x 9 = 54\n"
     ]
    }
   ],
   "source": [
    "    num = int(input('lütfen sayı giriniz: '))\n",
    "    upperLimit = int(input('lütfen çarpan giriniz: '))\n",
    "\n",
    "    def printTable(num, upperLimit):   \n",
    "        for i in range(0, upperLimit+1):\n",
    "            print(num, 'x', i, '=', num * i)\n",
    "\n",
    "    def main():\n",
    "        printTable(num, upperLimit)\n",
    "\n",
    "    main()    "
   ]
  },
  {
   "cell_type": "markdown",
   "metadata": {},
   "source": [
    "5.List comprehension kullanarak, 1'den 20'ye kadar tek sayıların karesini, çift sayıların küpünü içeren bir liste oluşturun."
   ]
  },
  {
   "cell_type": "code",
   "execution_count": 5,
   "metadata": {},
   "outputs": [
    {
     "name": "stdout",
     "output_type": "stream",
     "text": [
      "[1, 8, 9, 64, 25, 216, 49, 512, 81, 1000, 121, 1728, 169, 2744, 225, 4096, 289, 5832, 361, 8000]\n"
     ]
    }
   ],
   "source": [
    "a = []\n",
    "\n",
    "for x in range(1,21):\n",
    "    if x%2==0:\n",
    "        a.append(x**3)\n",
    "    else:\n",
    "        a.append(x**2)\n",
    "print(a)"
   ]
  },
  {
   "cell_type": "code",
   "execution_count": null,
   "metadata": {},
   "outputs": [],
   "source": []
  }
 ],
 "metadata": {
  "kernelspec": {
   "display_name": "Python 3",
   "language": "python",
   "name": "python3"
  },
  "language_info": {
   "codemirror_mode": {
    "name": "ipython",
    "version": 3
   },
   "file_extension": ".py",
   "mimetype": "text/x-python",
   "name": "python",
   "nbconvert_exporter": "python",
   "pygments_lexer": "ipython3",
   "version": "3.7.4"
  }
 },
 "nbformat": 4,
 "nbformat_minor": 2
}
