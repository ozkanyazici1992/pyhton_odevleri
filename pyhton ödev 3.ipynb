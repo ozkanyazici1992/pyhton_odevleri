{
 "cells": [
  {
   "cell_type": "markdown",
   "metadata": {},
   "source": [
    "1.Kullanıcıdan Santigrat ya da Fahrenheit olarak sıcaklık değerini alacak ve diğer sıcaklık birimine çevirecek bir kod yazın. Dönüşüm için C = (5/9) * (F - 32) formülünü kullanabilirsiniz.\n",
    "\n",
    " Örnek : \"40C\" --> \"104F\"\n",
    "         \"52F\" --> \"11.1\""
   ]
  },
  {
   "cell_type": "code",
   "execution_count": 1,
   "metadata": {},
   "outputs": [
    {
     "name": "stdout",
     "output_type": "stream",
     "text": [
      "Santigrat derece girin:100\n",
      "Fahrenait değeri=212.0\n"
     ]
    }
   ],
   "source": [
    "deg = float(input(\"Santigrat derece girin:\"))\n",
    " \n",
    "fah = deg * 1.8 + 32;\n",
    " \n",
    "print('Fahrenait değeri={0}'.format(fah))"
   ]
  },
  {
   "cell_type": "markdown",
   "metadata": {},
   "source": [
    "2.Kullanıcının girdiği kelimeyi ters çeviren bir kod yazınız.\n",
    "\n",
    " Örnek : \"otobüs\" --> \"süboto"
   ]
  },
  {
   "cell_type": "code",
   "execution_count": 2,
   "metadata": {},
   "outputs": [
    {
     "name": "stdout",
     "output_type": "stream",
     "text": [
      "İsminiz :özkanyazıcı\n",
      "İsminizin tersten yazılışı : ıcızaynakzö\n"
     ]
    }
   ],
   "source": [
    "kelime = input (\"İsminiz :\")\n",
    "print(\"İsminizin tersten yazılışı :\", kelime[::-1])"
   ]
  },
  {
   "cell_type": "markdown",
   "metadata": {},
   "source": [
    "3.1'den 50'ye kadar olan Fibonacci sayılarından oluşan bir liste oluşturun. \n",
    "İlk iki Fibonacci sayısı 1'dir. Sonraki sayılar, önceki iki sayının toplamıdır."
   ]
  },
  {
   "cell_type": "code",
   "execution_count": 3,
   "metadata": {},
   "outputs": [
    {
     "name": "stdout",
     "output_type": "stream",
     "text": [
      "lütfen sayı giriniz9\n",
      "0\n",
      "1\n",
      "1\n",
      "2\n",
      "3\n",
      "5\n",
      "8\n",
      "13\n",
      "21\n",
      "lütfen sayı giriniz10\n",
      "0\n",
      "1\n",
      "1\n",
      "2\n",
      "3\n",
      "5\n",
      "8\n",
      "13\n",
      "21\n",
      "34\n"
     ]
    }
   ],
   "source": [
    "def  fibonacci(sinir):\n",
    "    sayi1=0\n",
    "    sayi2=1\n",
    "    print(sayi1)\n",
    "    print(sayi2)\n",
    "    i=0\n",
    "    while(i<sinir-2):\n",
    "        sayi3=sayi1+sayi2\n",
    "        print(sayi3)\n",
    "        sayi1=sayi2\n",
    "        sayi2=sayi3\n",
    "        i+=1\n",
    "sinir=int(input(\"lütfen sayı giriniz\"))\n",
    "fibonacci(sinir)\n",
    "1\n",
    "2\n",
    "3\n",
    "4\n",
    "5\n",
    "6\n",
    "7\n",
    "8\n",
    "9\n",
    "10\n",
    "11\n",
    "12\n",
    "13\n",
    "14\n",
    "def  fibonacci(sinir):\n",
    "    sayi1=0\n",
    "    sayi2=1\n",
    "    print(sayi1)\n",
    "    print(sayi2)\n",
    "    i=0\n",
    "    while(i<sinir-2):\n",
    "        sayi3=sayi1+sayi2\n",
    "        print(sayi3)\n",
    "        sayi1=sayi2\n",
    "        sayi2=sayi3\n",
    "        i+=1\n",
    "sinir=int(input(\"lütfen sayı giriniz\"))\n",
    "fibonacci(sinir)"
   ]
  },
  {
   "cell_type": "markdown",
   "metadata": {},
   "source": [
    "4.Girilen bir sayı için çarpım tablosunu yazdırın."
   ]
  },
  {
   "cell_type": "code",
   "execution_count": 4,
   "metadata": {},
   "outputs": [
    {
     "name": "stdout",
     "output_type": "stream",
     "text": [
      "lütfen sayı giriniz: 4\n",
      "lütfen çarpan giriniz: 9\n",
      "4 x 0 = 0\n",
      "4 x 1 = 4\n",
      "4 x 2 = 8\n",
      "4 x 3 = 12\n",
      "4 x 4 = 16\n",
      "4 x 5 = 20\n",
      "4 x 6 = 24\n",
      "4 x 7 = 28\n",
      "4 x 8 = 32\n",
      "4 x 9 = 36\n"
     ]
    }
   ],
   "source": [
    "    num = int(input('lütfen sayı giriniz: '))\n",
    "    upperLimit = int(input('lütfen çarpan giriniz: '))\n",
    "\n",
    "    def printTable(num, upperLimit):   \n",
    "        for i in range(0, upperLimit+1):\n",
    "            print(num, 'x', i, '=', num * i)\n",
    "\n",
    "    def main():\n",
    "        printTable(num, upperLimit)\n",
    "\n",
    "    main()    "
   ]
  },
  {
   "cell_type": "markdown",
   "metadata": {},
   "source": [
    "5.List comprehension kullanarak, 1'den 20'ye kadar tek sayıların karesini, çift sayıların küpünü içeren bir liste oluşturun."
   ]
  },
  {
   "cell_type": "code",
   "execution_count": 5,
   "metadata": {},
   "outputs": [
    {
     "name": "stdout",
     "output_type": "stream",
     "text": [
      "[0, 4, 16, 36, 64, 100, 144, 196, 256, 324]\n",
      "[1, 27, 125, 343, 729, 1331, 2197, 3375, 4913, 6859]\n"
     ]
    }
   ],
   "source": [
    "çift_rakamlar = []\n",
    "tek_rakamlar = []\n",
    "\n",
    "for n in range(20):\n",
    "    if n % 2 == 0:\n",
    "        çift_rakamlar.append(n **2)\n",
    "    else:\n",
    "        tek_rakamlar.append(n ** 3)\n",
    "\n",
    "print(çift_rakamlar)\n",
    "print(tek_rakamlar)"
   ]
  },
  {
   "cell_type": "code",
   "execution_count": null,
   "metadata": {},
   "outputs": [],
   "source": []
  }
 ],
 "metadata": {
  "kernelspec": {
   "display_name": "Python 3",
   "language": "python",
   "name": "python3"
  },
  "language_info": {
   "codemirror_mode": {
    "name": "ipython",
    "version": 3
   },
   "file_extension": ".py",
   "mimetype": "text/x-python",
   "name": "python",
   "nbconvert_exporter": "python",
   "pygments_lexer": "ipython3",
   "version": "3.7.4"
  }
 },
 "nbformat": 4,
 "nbformat_minor": 2
}
